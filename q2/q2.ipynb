{
 "cells": [
  {
   "cell_type": "code",
   "execution_count": 2,
   "metadata": {},
   "outputs": [],
   "source": [
    "import tensorflow as tf\n",
    "import numpy as np\n",
    "from tensorflow import keras\n",
    "from tensorflow.keras.callbacks import ModelCheckpoint"
   ]
  },
  {
   "cell_type": "code",
   "execution_count": 3,
   "metadata": {},
   "outputs": [],
   "source": [
    "load_from_ckpt_flag = 1  # set this flag 0 to predict your array\n",
    "checkpoint_path = \"training_1/model.ckpt\"\n",
    "X_predict = np.array([[10, 0.1], [0.2, 3], [4, 0.6], [0.5, 0.6]]) # array to make prediction"
   ]
  },
  {
   "cell_type": "code",
   "execution_count": 4,
   "metadata": {},
   "outputs": [],
   "source": [
    "if load_from_ckpt_flag == 0:\n",
    "    # prepare training datas\n",
    "    print(\"Preparing training data\")\n",
    "    X_train = []\n",
    "    Y_train = []\n",
    "\n",
    "    for i in range(1000):\n",
    "        for j in range(1000):\n",
    "            X_train.append([i * 0.01, j * 0.01])\n",
    "            Y_train.append([i * j * 0.0001])\n",
    "\n",
    "    print(\"Preparing test data\")\n",
    "    X_test = []\n",
    "    Y_test = []\n",
    "\n",
    "    for i in range(900,1100):\n",
    "        for j in range(1000):\n",
    "            X_test.append([i * 0.01, j * 0.01])\n",
    "            Y_test.append([i * j * 0.0001])\n",
    "\n",
    "    print(\"Preparing validation data\")\n",
    "    X_val = []\n",
    "    Y_val = []\n",
    "\n",
    "    for i in range(1000,1200):\n",
    "        for j in range(1000):\n",
    "            X_val.append([i * 0.01, j * 0.01])\n",
    "            Y_val.append([i * j * 0.0001])\n"
   ]
  },
  {
   "cell_type": "code",
   "execution_count": 5,
   "metadata": {},
   "outputs": [],
   "source": [
    "def create_model():\n",
    "    print(\"Creating model\")\n",
    "    model = keras.Sequential()\n",
    " \n",
    "    model.add(keras.layers.Flatten(input_shape=(2,)))\n",
    "    model.add(keras.layers.Dense(32, activation=tf.nn.relu))\n",
    "    model.add(keras.layers.Dense(64, activation=tf.nn.relu))\n",
    "    model.add(keras.layers.Dense(32, activation=tf.nn.relu))\n",
    "    model.add(keras.layers.Dense(1))\n",
    "\n",
    "    model.compile(optimizer='adam',\n",
    "            loss='mse',\n",
    "            metrics=['mae'])\n",
    "\n",
    "    return model\n",
    "\n",
    "def save_checkpoint():\n",
    "    print(\"Saving model\")\n",
    "    cp_callback = ModelCheckpoint(filepath=checkpoint_path,\n",
    "            save_weights_only=True,\n",
    "            verbose=1)\n",
    "\n",
    "    return cp_callback"
   ]
  },
  {
   "cell_type": "code",
   "execution_count": 6,
   "metadata": {},
   "outputs": [
    {
     "name": "stdout",
     "output_type": "stream",
     "text": [
      "Creating model\n",
      "WARNING:tensorflow:Inconsistent references when loading the checkpoint into this object graph. Either the Trackable object references in the Python program have changed in an incompatible way, or the checkpoint was generated in an incompatible program.\n",
      "\n",
      "Two checkpoint references resolved to different objects (<tensorflow.python.keras.layers.core.Dense object at 0x000001AE96B0A460> and <tensorflow.python.keras.layers.core.Dense object at 0x000001AE96B36B80>).\n",
      "WARNING:tensorflow:Inconsistent references when loading the checkpoint into this object graph. Either the Trackable object references in the Python program have changed in an incompatible way, or the checkpoint was generated in an incompatible program.\n",
      "\n",
      "Two checkpoint references resolved to different objects (<tensorflow.python.keras.layers.core.Dense object at 0x000001AE96B36B80> and <tensorflow.python.keras.layers.core.Dense object at 0x000001AE96BFD130>).\n",
      "WARNING:tensorflow:Inconsistent references when loading the checkpoint into this object graph. Either the Trackable object references in the Python program have changed in an incompatible way, or the checkpoint was generated in an incompatible program.\n",
      "\n",
      "Two checkpoint references resolved to different objects (<tensorflow.python.keras.layers.core.Dense object at 0x000001AE96BFD130> and <tensorflow.python.keras.layers.core.Dense object at 0x000001AE96BFD2E0>).\n",
      "a = np.array([[10, 0.1], [0.2, 3], [4, 0.6], [0.5, 0.6]])\n",
      "[[1.3081269 ]\n",
      " [0.60001326]\n",
      " [2.4444842 ]\n",
      " [0.42046118]]\n"
     ]
    }
   ],
   "source": [
    "model = create_model()\n",
    "if(load_from_ckpt_flag):\n",
    "    model.load_weights(checkpoint_path)\n",
    "else:\n",
    "    cb_1 = save_checkpoint()\n",
    "    print(\"Fitting model\")\n",
    "    model.fit(X_train, Y_train, epochs=10, batch_size=1,\n",
    "            validation_data=(X_val, Y_val),\n",
    "            callbacks=[cb_1])\n",
    "\n",
    "    print(\"Evaluating model\")\n",
    "    test_loss, test_acc = model.evaluate(X_test, Y_test)\n",
    "    print(\"Test acc: \", test_acc)\n",
    "\n",
    "print(\"Prediction array is : \", X_predict)\n",
    "print(model.predict(X_predict))\n"
   ]
  }
 ],
 "metadata": {
  "kernelspec": {
   "display_name": "Python 3",
   "language": "python",
   "name": "python3"
  },
  "language_info": {
   "codemirror_mode": {
    "name": "ipython",
    "version": 3
   },
   "file_extension": ".py",
   "mimetype": "text/x-python",
   "name": "python",
   "nbconvert_exporter": "python",
   "pygments_lexer": "ipython3",
   "version": "3.8.1"
  }
 },
 "nbformat": 4,
 "nbformat_minor": 4
}
